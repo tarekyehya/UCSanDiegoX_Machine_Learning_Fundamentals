{
 "cells": [
  {
   "attachments": {},
   "cell_type": "markdown",
   "metadata": {},
   "source": [
    "# Gradient-based solver for ridge regression"
   ]
  },
  {
   "attachments": {},
   "cell_type": "markdown",
   "metadata": {},
   "source": [
    "In this notebook, you will create a **gradient descent** solver for **ridge regression** and then compare it to the built-in solver in `sklearn.linear_model`."
   ]
  },
  {
   "attachments": {},
   "cell_type": "markdown",
   "metadata": {},
   "source": [
    "## 1. Set up notebook and create data set"
   ]
  },
  {
   "attachments": {},
   "cell_type": "markdown",
   "metadata": {},
   "source": [
    "After loading in some standard packages, we create a synthetic data set consisting of data points `(x,y)`:\n",
    "* `x`: 100-dimensional vector whose coordinates are independent draws from a standard normal (Gaussian) distribution\n",
    "* `y`: response value given by `y = wx + e` where `w` is a target regression function and `e` is Gaussian noise\n",
    "\n",
    "We will fix `w` to be the 100-dimensional vector whose first ten coordinates are exactly 1.0, and whose remaining coordinates are zero. Thus only the first ten coordinates of `x` are relevant to the regression task."
   ]
  },
  {
   "cell_type": "code",
   "execution_count": 1,
   "metadata": {},
   "outputs": [],
   "source": [
    "%matplotlib inline\n",
    "import numpy as np\n",
    "import matplotlib\n",
    "import matplotlib.pyplot as plt\n",
    "from sklearn import linear_model\n",
    "from sklearn.metrics import mean_squared_error\n",
    "matplotlib.rc('xtick', labelsize=14) \n",
    "matplotlib.rc('ytick', labelsize=14)"
   ]
  },
  {
   "attachments": {},
   "cell_type": "markdown",
   "metadata": {},
   "source": [
    "The following procedure, **generate_data**, creates a data set of a specified number of points. It is invoked as follows:\n",
    "* `trainx, trainy = generate_data(n)`\n",
    "\n",
    "Here:\n",
    "* `n` is the target number of points\n",
    "* `trainx`: `nx100` array of data points\n",
    "* `trainy`: array of `n` response values"
   ]
  },
  {
   "cell_type": "code",
   "execution_count": 2,
   "metadata": {},
   "outputs": [],
   "source": [
    "def generate_data(n):\n",
    "    d = 100\n",
    "    w = np.zeros(d)\n",
    "    for i in range(0,10):\n",
    "        w[i] = 1.0\n",
    "    #\n",
    "    trainx = np.random.normal(size=(n,d))\n",
    "    e = np.random.normal(size=(n))\n",
    "    trainy = np.dot(trainx, w) + e\n",
    "    #\n",
    "    return trainx, trainy"
   ]
  },
  {
   "attachments": {},
   "cell_type": "markdown",
   "metadata": {},
   "source": [
    "## 2. Gradient descent solver for ridge regression"
   ]
  },
  {
   "attachments": {},
   "cell_type": "markdown",
   "metadata": {},
   "source": [
    "<font color=\"magenta\">**For you to do:**</font> Define a procedure, **ridge_regression_GD**, that uses gradient descent to solve the ridge regression problem. It is invoked as follows:\n",
    "\n",
    "* `w,b,losses = ridge_regression_GD(x,y,C)`\n",
    "\n",
    "Here, the input consists of:\n",
    "* training data `x,y`, where `x` and `y` are numpy arrays of dimension `n`-by-`d` and `n`, respectively (if there are `n` training points)\n",
    "* regularization constant `C`\n",
    "\n",
    "The function should find the `d`-dimensional vector `w` and offset `b` that minimize the ridge regression loss function (with regularization constant `C`), and return:\n",
    "* `w` and `b`\n",
    "* `losses`, an array containing the ridge regression loss at each iteration\n",
    "\n",
    "<font color=\"magenta\">Advice:</font> First figure out the derivative, which has a relatively simple form. Next, when implementing gradient descent, think carefully about two issues.\n",
    "\n",
    "1. What is the step size?\n",
    "2. When has the procedure converged?\n",
    "\n",
    "Take the time to experiment with different ways of handling these."
   ]
  },
  {
   "cell_type": "code",
   "execution_count": 3,
   "metadata": {},
   "outputs": [],
   "source": [
    "def ridge_regression_GD(x,y,C):\n",
    "    m, n = x.shape\n",
    "      \n",
    "    # create w\n",
    "    w  = np.zeros(n)\n",
    "    # create b\n",
    "    b = 0\n",
    "\n",
    "    n = 3e-3\n",
    "    # losses\n",
    "    losses = []\n",
    "    for i in range(1,50):\n",
    "        mag = np.dot(w,w)\n",
    "\n",
    "        # loss function\n",
    "        r = y - (np.dot(x , w) + b)\n",
    "        loss = np.sum(np.square(r) + C  * mag )\n",
    "        losses.append(loss)\n",
    "\n",
    "        # gradent b\n",
    "        grad_b = - (2 * np.sum(r) )/ m\n",
    "      \n",
    "\n",
    "        # gradent w\n",
    "        grad_w =   - ( 2 * ( np.dot(x.T,r)) + (2 * C * w)) \n",
    "       \n",
    "        # update w,b\n",
    "        w -= n * (grad_w)\n",
    "        b -= n * (grad_b)\n",
    "        n *= 0.5\n",
    "       \n",
    "       \n",
    "        \n",
    "    return w,b,losses\n"
   ]
  },
  {
   "cell_type": "code",
   "execution_count": 4,
   "metadata": {},
   "outputs": [],
   "source": [
    "# try to add the b to the w\n",
    "def ridge_regression_GD_b(x,y,C):\n",
    "    ### Put your code here\n",
    "\n",
    "    # create w\n",
    "    w = np.zeros(x.shape[1])\n",
    "    n = 3e-3\n",
    "    # losses\n",
    "    losses = []\n",
    "\n",
    "\n",
    "    # add b to the w and x as a parameter to learn\n",
    "    w_with_b = np.zeros(w.shape[0] + 1)\n",
    "    x_with_b = np.zeros((x.shape[0] , x.shape[1] + 1))\n",
    "\n",
    "    w_with_b[0] = 0\n",
    "    w_with_b[1:] = w\n",
    "\n",
    "    x_with_b[: , x.shape[1]] = 1\n",
    "    x_with_b [: , : x.shape[1] ] = x\n",
    "\n",
    "\n",
    "    for i in range(100):\n",
    "        mag = np.dot(w_with_b,w_with_b)\n",
    "\n",
    "        # loss function\n",
    "        r = y - (np.dot(x_with_b , w_with_b))\n",
    "        loss = np.sum(np.square(r) + C  * mag )\n",
    "        losses.append(loss)\n",
    "\n",
    "        # gradent w\n",
    "        grad_w =   - ( 2 * ( np.dot(x_with_b.T,r)) + (2 * C * w_with_b)) \n",
    "        # update w,b\n",
    "        w_with_b -= n * (grad_w )\n",
    "\n",
    "\n",
    "\n",
    "    w = w_with_b[1:]\n",
    "    b = w_with_b[0]\n",
    "\n",
    "    return w,b,losses\n",
    "\n"
   ]
  },
  {
   "attachments": {},
   "cell_type": "markdown",
   "metadata": {},
   "source": [
    "Let's try it out and print a graph of the loss values during the optimization process."
   ]
  },
  {
   "cell_type": "code",
   "execution_count": 5,
   "metadata": {},
   "outputs": [
    {
     "data": {
      "image/png": "[encoded data removed]",
      "text/plain": [
       "<Figure size 640x480 with 1 Axes>"
      ]
     },
     "metadata": {},
     "output_type": "display_data"
    },
    {
     "name": "stdout",
     "output_type": "stream",
     "text": [
      "[1871.3686814499783, 5632.757492628734, 1736.918560831745, 1529.3403717600875, 1550.0008687661177, 1560.5477134908683, 1565.7184872884322, 1568.27340500533, 1569.543023710722, 1570.1758606982426, 1570.4917853487061, 1570.649624163565, 1570.7285126898455, 1570.7679492324146, 1570.7876655735313, 1570.7975232615445, 1570.8024519849148, 1570.8049163164405, 1570.806148474664, 1570.8067645518906, 1570.8070725900327, 1570.8072266089857, 1570.8073036184333, 1570.8073421231495, 1570.8073613755055, 1570.807371001683, 1570.8073758147718, 1570.807378221316, 1570.8073794245884, 1570.8073800262246, 1570.8073803270422, 1570.8073804774515, 1570.807380552656, 1570.8073805902584, 1570.8073806090592, 1570.8073806184598, 1570.8073806231603, 1570.8073806255102, 1570.8073806266852, 1570.8073806272732, 1570.8073806275668, 1570.8073806277139, 1570.807380627787, 1570.807380627824, 1570.8073806278421, 1570.8073806278512, 1570.8073806278558, 1570.8073806278583, 1570.8073806278596]\n"
     ]
    }
   ],
   "source": [
    "# Generate 200 data points\n",
    "n = 200\n",
    "x,y = generate_data(n)\n",
    "# Set regularization constant\n",
    "C = 1.0\n",
    "# Run gradient descent solver\n",
    "w, b, losses = ridge_regression_GD(x,y,C)\n",
    "# Plot the losses\n",
    "plt.plot(losses,'r')\n",
    "plt.xlabel('Iterations', fontsize=14)\n",
    "plt.ylabel('Loss', fontsize=14)\n",
    "plt.show()\n",
    "\n",
    "print(losses)"
   ]
  },
  {
   "attachments": {},
   "cell_type": "markdown",
   "metadata": {},
   "source": [
    "<font color=\"magenta\">**Something to think about**</font>\n",
    "\n",
    "1. In setting the step size, does it work to use a fixed schedule 1/t? Why or why not?\n",
    " - no, can't get good result, i think because one in the first step update the parameters in very fault way\n",
    "\n",
    "2. Can you set up the gradient descent procedure in such a way that on each iteration, the loss monotonically decreases?\n",
    " - yeah, we can implement stochastic gradent descent for this reason\n"
   ]
  },
  {
   "attachments": {},
   "cell_type": "markdown",
   "metadata": {},
   "source": [
    "### stochastic"
   ]
  },
  {
   "cell_type": "code",
   "execution_count": 6,
   "metadata": {},
   "outputs": [],
   "source": [
    "# test the loss function\n",
    "def ridge_regression_GD_stochastic(x,y,C):\n",
    "    m, n = x.shape\n",
    "      \n",
    "    # create w\n",
    "    w  = np.zeros(n)\n",
    "    # create b\n",
    "    b = 0\n",
    "\n",
    "    n = 3e-3\n",
    "    # losses\n",
    "    losses = []\n",
    "    for i in range(m):\n",
    "        mag = np.dot(w,w)\n",
    "        sup_x = x[i,:]\n",
    "        # loss function\n",
    "        r = y[i] - (np.dot(sup_x , w) + b)\n",
    "        loss = np.sum(np.square(r) + C  * mag )\n",
    "        losses.append(loss)\n",
    "\n",
    "        # gradent b\n",
    "        grad_b = - (2 * np.sum(r) )\n",
    "      \n",
    "\n",
    "        # gradent w\n",
    "        grad_w =   - ( 2 * ( np.dot(sup_x.T,r)) + (2 * C * w)) \n",
    "       \n",
    "        # update w,b\n",
    "        w -= n * (grad_w)\n",
    "        b -= n * (grad_b)\n",
    "        n *= 0.5\n",
    "       \n",
    "       \n",
    "    return w,b,losses\n",
    "\n"
   ]
  },
  {
   "cell_type": "code",
   "execution_count": 7,
   "metadata": {},
   "outputs": [
    {
     "data": {
      "image/png": "[encoded data removed]",
      "text/plain": [
       "<Figure size 640x480 with 1 Axes>"
      ]
     },
     "metadata": {},
     "output_type": "display_data"
    },
    {
     "name": "stdout",
     "output_type": "stream",
     "text": [
      "[2.973219449297479, 0.9929076924192071, 4.315262242986302, 1.0401174918985436, 8.600804814958176, 0.05272454565121605, 2.9134225150693127, 0.20570798404080035, 1.448378281002639, 7.8018171472459175, 7.868857766987751, 7.5573077661505845, 5.539989811974215, 0.07502450912237875, 28.000868499931656, 3.7103976340382716, 17.049674636869394, 46.73944563775381, 4.236140473616329, 0.3403392591779594, 9.701462554308572, 0.024568024459234478, 4.50630017471505, 0.5158964170294753, 6.109122207423134, 32.28439178297723, 66.44316981902787, 1.0660051704494828, 14.324966780964614, 50.714589259066436, 19.9435167173908, 15.62003121841551, 23.450588624669578, 42.39366957238225, 46.18081104788252, 0.3766725011507635, 0.43810488657541563, 27.97213021015982, 11.134054108543005, 0.5343721040761226, 20.48590306953573, 36.419864034603634, 0.044696912960218646, 3.7891469438042065, 1.375561269784667, 10.172469830872915, 12.764630201053242, 16.0296603766648, 0.4312774236263092, 2.524036617621484, 16.149254080931925, 0.7211767236815784, 0.03713385115961686, 3.6148857310629388, 12.247663105326751, 0.8739780488911948, 36.32352853502319, 6.671921556831164, 0.2266724379636936, 8.658290304379003, 39.23561059181332, 17.852652838809618, 8.853824456509791, 48.17449356346256, 19.70842953854915, 3.7858243354248144, 5.827540751292511, 2.7663468121159864, 1.0456464423137866, 54.81821901640514, 3.5220544236324884, 11.1659538472739, 3.186118569195755, 1.0029264512322367, 14.40075954532352, 2.779048550206793, 13.726200772433208, 19.70203128011635, 0.025026775152833018, 0.01725055304219956, 9.03363260110556, 6.1424280685533095, 0.018335625809742948, 1.8230076751453033, 1.2128150719330044, 27.445866146569713, 0.5358184746636896, 2.260895192627344, 19.23695635032126, 0.8195462913068732, 2.285388750984804, 8.017082167596392, 6.141199835689471, 3.597137581711935, 16.724875748169907, 37.66351263509334, 0.01303264688994506, 1.7162315397963812, 2.0838528089539863, 5.931843460341052, 3.9395259996822913, 0.10959455864188512, 89.98758300275537, 3.7583128324462, 4.239101734354534, 27.3743630274889, 1.4245117996068557, 3.4191477411108266, 3.007940383599564, 3.853099386350749, 0.07007483699711024, 2.0864694257065564, 2.7142560817958246, 22.08186426833787, 14.536830540441573, 2.230551539261826, 16.818545138835628, 25.929293826428996, 0.2272413512149344, 0.033084264617383716, 2.2566926668859764, 2.756650080191304, 1.4249052177828292, 14.105345319014418, 23.79305849210666, 0.5894876285492681, 0.01479986672922751, 5.735165514109974, 11.448052705557684, 1.1247631712090347, 1.9203573698153427, 0.012301683459838087, 13.974878592944743, 0.32065518555882344, 1.1835072314585728, 1.0597005276103122, 1.263769013132799, 2.508610659566867, 4.337640834775862, 29.826598379388237, 0.3400398799936885, 4.587690775164217, 10.123471014304524, 1.678212393590636, 4.031128613320817, 7.101290450399479, 0.012261225380502304, 15.172850422702766, 6.01283908838261, 17.449539305814227, 3.934388321780832, 19.677450742646595, 24.21355043916993, 42.718815657028316, 23.061177493704594, 20.552737009333956, 0.049495504704500426, 21.91812925672932, 4.44935201389695, 8.943311159975096, 2.2465393351586664, 16.774771128890986, 1.50134758496786, 63.236319265369225, 1.399888800352269, 69.28353976111782, 5.0682226268853015, 23.376287110329564, 1.7234738866502914, 16.03219359931066, 1.8529730069027581, 19.88911001587573, 4.208382929108251, 2.8759286880498465, 3.151306482258888, 4.485531471068433, 6.138226229900053, 16.22507783465576, 2.4513752421299726, 28.87077788453653, 10.976570472858524, 0.013718379307058408, 7.15351605976266, 0.013719721342856374, 0.12809748598245668, 17.303702864198566, 0.07385269867486233, 0.04677372834217553, 8.779034662505543, 0.8209866901328955, 16.619793471304618, 23.45954957030879, 2.0436645940135585, 9.418352677157271, 0.08958676994841011, 32.11496521553148, 4.536700367889286, 6.558504175233769, 6.1029561712215035, 9.35076390585964]\n"
     ]
    }
   ],
   "source": [
    "# Generate 200 data points\n",
    "n = 200\n",
    "x,y = generate_data(n)\n",
    "# Set regularization constant\n",
    "C = 1.0\n",
    "# Run gradient descent solver\n",
    "w, b, losses = ridge_regression_GD_stochastic(x,y,C)\n",
    "# Plot the losses\n",
    "plt.plot(losses,'r')\n",
    "plt.xlabel('Iterations', fontsize=14)\n",
    "plt.ylabel('Loss', fontsize=14)\n",
    "plt.show()\n",
    "\n",
    "print(losses)"
   ]
  },
  {
   "attachments": {},
   "cell_type": "markdown",
   "metadata": {},
   "source": [
    "## 3. Evaluate the gradient descent solver"
   ]
  },
  {
   "attachments": {},
   "cell_type": "markdown",
   "metadata": {},
   "source": [
    "Now let's compare the regressor found by your gradient descent procedure to that returned by the built-in ridge regression solver in `sklearn`. We will compare them in two ways:\n",
    "* Their MSE values\n",
    "* The distance between the corresponding `w`-vectors\n",
    "\n",
    "The latter should be smaller than 10^{-4}.\n"
   ]
  },
  {
   "cell_type": "code",
   "execution_count": 8,
   "metadata": {},
   "outputs": [],
   "source": [
    "def compute_mse(w,b,x,y):\n",
    "    residuals = y - (np.dot(x, w) + b)\n",
    "    return np.dot(residuals, residuals)/n"
   ]
  },
  {
   "cell_type": "code",
   "execution_count": 9,
   "metadata": {},
   "outputs": [
    {
     "name": "stdout",
     "output_type": "stream",
     "text": [
      "MSE of gradient descent solver:  0.7577859017236236\n",
      "MSE of built-in solver:  0.5605758910124543\n",
      "Distance between w-coefficients:  0.6629250615372536\n"
     ]
    }
   ],
   "source": [
    "# Generate 200 data points\n",
    "n = 200\n",
    "x,y = generate_data(n)\n",
    "# Set regularization constant\n",
    "C = 10.0\n",
    "# Run gradient descent solver and compute its MSE\n",
    "w, b, losses = ridge_regression_GD(x,y,C)\n",
    "# Use built-in routine for ridge regression and compute MSE\n",
    "regr = linear_model.Ridge(alpha=C)\n",
    "regr.fit(x, y)\n",
    "# Print MSE values and L2 distance between the regression functions\n",
    "print(\"MSE of gradient descent solver: \", compute_mse(w,b,x,y))\n",
    "print(\"MSE of built-in solver: \", mean_squared_error(regr.predict(x), y))\n",
    "print(\"Distance between w-coefficients: \", np.linalg.norm(w-regr.coef_))"
   ]
  },
  {
   "attachments": {},
   "cell_type": "markdown",
   "metadata": {},
   "source": [
    "<font color=\"magenta\">**Something to think about**</font>\n",
    "\n",
    "The data was originally generated using a linear function in which only ten of the 100 features (the first ten) were relevant. Does the vector `w` returned by ridge regression correctly identify the relevant features?"
   ]
  },
  {
   "cell_type": "code",
   "execution_count": 10,
   "metadata": {},
   "outputs": [
    {
     "data": {
      "text/plain": [
       "array([ 0.87589151,  0.75215939,  0.78902988,  0.82463204,  0.91654937,\n",
       "        0.84257029,  0.88344545,  0.84419676,  0.78334352,  0.78682637,\n",
       "        0.11556188, -0.01702045,  0.01205343,  0.09233438, -0.13764018])"
      ]
     },
     "execution_count": 10,
     "metadata": {},
     "output_type": "execute_result"
    }
   ],
   "source": [
    "w, b, losses = ridge_regression_GD(x,y,C)\n",
    "w[:15]"
   ]
  }
 ],
 "metadata": {
  "kernelspec": {
   "display_name": "Python 3",
   "language": "python",
   "name": "python3"
  },
  "language_info": {
   "codemirror_mode": {
    "name": "ipython",
    "version": 3
   },
   "file_extension": ".py",
   "mimetype": "text/x-python",
   "name": "python",
   "nbconvert_exporter": "python",
   "pygments_lexer": "ipython3",
   "version": "3.9.7"
  },
  "toc": {
   "colors": {
    "hover_highlight": "#DAA520",
    "navigate_num": "#000000",
    "navigate_text": "#333333",
    "running_highlight": "#FF0000",
    "selected_highlight": "#FFD700",
    "sidebar_border": "#EEEEEE",
    "wrapper_background": "#FFFFFF"
   },
   "moveMenuLeft": true,
   "nav_menu": {
    "height": "12px",
    "width": "252px"
   },
   "navigate_menu": true,
   "number_sections": false,
   "sideBar": true,
   "threshold": 4,
   "toc_cell": false,
   "toc_section_display": "block",
   "toc_window_display": false,
   "widenNotebook": false
  }
 },
 "nbformat": 4,
 "nbformat_minor": 2
}
